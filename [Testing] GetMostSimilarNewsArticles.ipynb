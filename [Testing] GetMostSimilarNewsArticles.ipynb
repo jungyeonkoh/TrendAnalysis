{
 "cells": [
  {
   "cell_type": "code",
   "execution_count": 2,
   "metadata": {},
   "outputs": [],
   "source": [
    "import os\n",
    "import numpy as np\n",
    "import pandas as pd\n",
    "\n",
    "import pickle\n",
    "from numpy import dot\n",
    "from numpy.linalg import norm\n",
    "from random import *\n",
    "from gensim.summarization.summarizer import summarize\n"
   ]
  },
  {
   "cell_type": "code",
   "execution_count": 3,
   "metadata": {},
   "outputs": [],
   "source": [
    "####Load News Articles"
   ]
  },
  {
   "cell_type": "code",
   "execution_count": 4,
   "metadata": {},
   "outputs": [],
   "source": [
    "with open('./News Data/pre-processed_news_original_headline_with_date_list.pickle', 'rb') as f:\n",
    "    headlines = pickle.load(f)\n",
    "    \n",
    "with open('./News Data/pre-processed_news_headline_with_summary_list.pickle', 'rb') as f:\n",
    "    headlinesWithSummary = pickle.load(f)"
   ]
  },
  {
   "cell_type": "code",
   "execution_count": 5,
   "metadata": {},
   "outputs": [
    {
     "name": "stdout",
     "output_type": "stream",
     "text": [
      "(200000, 1024)\n"
     ]
    }
   ],
   "source": [
    "with open('./Sentence Vector/SentenceVector_all.pickle', 'rb') as f:\n",
    "    x = pickle.load(f)\n",
    "print(x.shape) #(200000, 1024)"
   ]
  },
  {
   "cell_type": "code",
   "execution_count": 20,
   "metadata": {
    "scrolled": true
   },
   "outputs": [
    {
     "name": "stdout",
     "output_type": "stream",
     "text": [
      "##Most 20 similar articles##\n",
      "##Summary##\n",
      "18 Valentine's Day Gifts For Him That Aren't Ridiculously Cheesy [2018-01-16]\n",
      "Tuesday's Morning Email: Inside Alabama's Wild Championship Comeback [2018-01-09]\n",
      "21 Creative Valentine's Day Gifts For Her That Aren't Flowers [2018-02-01]\n",
      "Wednesday's Morning Email: What You Missed Last Night In Trump's State Of The Union [2018-01-31]\n",
      "##Articles##\n",
      "[ 0 ]\n",
      "Sim: 0.6725904\n",
      "Headline: Alabama's Day Of Reckoning [2017-12-09]\n",
      "Sentece Vector: [ 0.19114903  0.07474463  0.04324702 ...  0.12134494 -0.24336293\n",
      "  0.04168314]\n",
      "[ 1 ]\n",
      "Sim: 0.64653426\n",
      "Headline: 33 Anti-Valentine's Day Gifts For People Who Despise Valentine's Day [2018-01-24]\n",
      "Sentece Vector: [-0.17134684  0.40277442  0.3884763  ... -0.00901962  0.01219993\n",
      "  0.13390625]\n",
      "[ 2 ]\n",
      "Sim: 0.6423567\n",
      "Headline: Silent Night, Childfree Night [2017-12-21]\n",
      "Sentece Vector: [ 0.10584313 -0.07349755  0.14238161 ... -0.186909    0.236025\n",
      "  0.07090683]\n",
      "[ 3 ]\n",
      "Sim: 0.621546\n",
      "Headline: Party Time! 18 Festive Finger Foods For New Year's Eve [2017-12-30]\n",
      "Sentece Vector: [ 0.11854073  0.06395374 -0.02415386 ... -0.19865113  0.38358566\n",
      "  0.21848065]\n",
      "[ 4 ]\n",
      "Sim: 0.61347437\n",
      "Headline: Monday's Morning Email: The Classrooms In Scientology's Shadow [2017-12-11]\n",
      "Sentece Vector: [-0.09029467 -0.0035949  -0.01174085 ... -0.08581555  0.21713762\n",
      "  0.28229246]\n",
      "[ 5 ]\n",
      "Sim: 0.6119016\n",
      "Headline: 18 Valentine's Day Gifts For Him That Aren't Ridiculously Cheesy [2018-01-16]\n",
      "Sentece Vector: [-0.01289415 -0.07342181  0.15085429 ... -0.08974579  0.18933836\n",
      "  0.08587462]\n",
      "[ 6 ]\n",
      "Sim: 0.6083268\n",
      "Headline: 20 Alternative Mother’s Day Cards For The Supportive Women In Your Life [2018-04-05]\n",
      "Sentece Vector: [ 0.01858155 -0.03573452  0.28566623 ...  0.33819547  0.6649605\n",
      "  0.13943785]\n",
      "[ 7 ]\n",
      "Sim: 0.60745\n",
      "Headline: Trump's Workday To Die For:  Prayer Breakfast, Intelligence Briefing, That's It [2018-05-04]\n",
      "Sentece Vector: [ 0.3464223   0.26742017  0.15495029 ... -0.15009129 -0.22600813\n",
      "  0.14733481]\n",
      "[ 8 ]\n",
      "Sim: 0.6074294\n",
      "Headline: Tuesday's Morning Email: Inside Alabama's Wild Championship Comeback [2018-01-09]\n",
      "Sentece Vector: [-0.17114511 -0.2483157   0.25837877 ... -0.0572137   0.24598971\n",
      "  0.16089782]\n",
      "[ 9 ]\n",
      "Sim: 0.6019001\n",
      "Headline: Here’s What Happens When You Watch 7 Days Of Made-For-TV Christmas Movies [2017-12-21]\n",
      "Sentece Vector: [-0.12676173  0.06294983 -0.07914596 ... -0.15749083  0.48045433\n",
      "  0.05542446]\n",
      "[ 10 ]\n",
      "Sim: 0.60184443\n",
      "Headline: 25 Spot-On Galentine's Day Gifts For Your Long-Distance BFF [2018-01-16]\n",
      "Sentece Vector: [ 0.27812976  0.17922516 -0.0089931  ...  0.10971663 -0.05208611\n",
      "  0.16442621]\n",
      "[ 11 ]\n",
      "Sim: 0.60109293\n",
      "Headline: 'Robert Mueller's 12 Days Of Christmas' Is Trump's Least Favorite Holiday Song [2017-12-05]\n",
      "Sentece Vector: [-0.16493274 -0.14563559  0.18222074 ...  0.21725482  0.25852245\n",
      "  0.4223642 ]\n",
      "[ 12 ]\n",
      "Sim: 0.5979813\n",
      "Headline: 21 Creative Valentine's Day Gifts For Her That Aren't Flowers [2018-02-01]\n",
      "Sentece Vector: [ 0.07555155 -0.02694088  0.08217287 ... -0.18900698  0.16727754\n",
      "  0.09711897]\n",
      "[ 13 ]\n",
      "Sim: 0.5962463\n",
      "Headline: 15 Unique Gifts For Mom This Mother's Day [2018-04-23]\n",
      "Sentece Vector: [ 0.33631602  0.39296153 -0.08454131 ... -0.07875018 -0.5093818\n",
      "  0.21996534]\n",
      "[ 14 ]\n",
      "Sim: 0.5958394\n",
      "Headline: 31 Tweets That Perfectly Sum Up New Year's Eve For Parents [2017-12-28]\n",
      "Sentece Vector: [ 0.06945056  0.00939392  0.39631054 ... -0.13261661  0.404552\n",
      "  0.11648405]\n",
      "[ 15 ]\n",
      "Sim: 0.5943048\n",
      "Headline: Thursday's Morning Email: Inside Matt Lauer's Downfall [2017-11-30]\n",
      "Sentece Vector: [ 0.09227569  0.396817   -0.11869041 ... -0.00136868 -0.10367712\n",
      "  0.04676804]\n",
      "[ 16 ]\n",
      "Sim: 0.5866922\n",
      "Headline: Wednesday's Morning Email: What You Missed Last Night In Trump's State Of The Union [2018-01-31]\n",
      "Sentece Vector: [ 0.12808204  0.24620879 -0.21190478 ... -0.21326338 -0.17643256\n",
      "  0.10329861]\n",
      "[ 17 ]\n",
      "Sim: 0.5860731\n",
      "Headline: Twitter Roasts Mariah Carey For 'Disaster' Hot Tea Moment During New Year's Performance [2018-01-01]\n",
      "Sentece Vector: [-0.12678811 -0.1992626   0.22940397 ... -0.08428407  0.5496275\n",
      " -0.01165493]\n",
      "[ 18 ]\n",
      "Sim: 0.5853173\n",
      "Headline: Monday's Morning Email: Philly Streets Run Green After Eagles' Super Bowl Win [2018-02-05]\n",
      "Sentece Vector: [-0.05106329 -0.1140932   0.25696272 ...  0.0080465   0.05808406\n",
      "  0.12928239]\n",
      "[ 19 ]\n",
      "Sim: 0.5820645\n",
      "Headline: How Experts And One Congressman Reacted To 2 Days Of Mark Zuckerberg's Testimony [2018-04-12]\n",
      "Sentece Vector: [ 0.0810065  -0.29982635  0.41254395 ...  0.13086002  0.03023161\n",
      "  0.37719473]\n",
      "[ 20 ]\n",
      "Sim: 0.58151275\n",
      "Headline: 17 Children's Books To Read To Your Kids In Honor Of Women's History Month [2018-03-16]\n",
      "Sentece Vector: [ 0.22614567  0.16223808  0.27756462 ...  0.04524348  0.17258582\n",
      " -0.00720129]\n"
     ]
    }
   ],
   "source": [
    "def cos_sim(A, B):\n",
    "    return dot(A, B)/(norm(A)*norm(B))\n",
    "\n",
    "idx = randint(1,x.shape[0])\n",
    "sim_list = []\n",
    "\n",
    "for i in range(x.shape[0]-10000,x.shape[0]):\n",
    "    # Get Simlarities by consine distance measure\n",
    "    sim_list.append( ( cos_sim(x[idx], x[i]), headlines[i] ) )\n",
    "    \n",
    "sim_list.sort(key = lambda element : element[0], reverse=True)\n",
    "#sim_list_y.sort(key = lambda element : element[0], reverse=True)\n",
    "\n",
    "print(\"##Most 20 similar articles##\")\n",
    "articles = \"\"\n",
    "for i in range(0,20):\n",
    "    articles += sim_list[i][1] + \"\\n\"\n",
    "print(\"##Summary##\")\n",
    "print(summarize(articles, ratio=0.2, split=False))\n",
    "\n",
    "print(\"##Articles##\")\n",
    "for i in range(0,21):\n",
    "    print(\"[\",i,\"]\")\n",
    "    print(\"Sim:\",sim_list[i][0])\n",
    "    print(\"Headline:\",sim_list[i][1])\n",
    "    print(\"Sentece Vector:\",x[i])"
   ]
  },
  {
   "cell_type": "code",
   "execution_count": null,
   "metadata": {},
   "outputs": [],
   "source": []
  },
  {
   "cell_type": "code",
   "execution_count": null,
   "metadata": {},
   "outputs": [],
   "source": []
  }
 ],
 "metadata": {
  "kernelspec": {
   "display_name": "Python 3",
   "language": "python",
   "name": "python3"
  },
  "language_info": {
   "codemirror_mode": {
    "name": "ipython",
    "version": 3
   },
   "file_extension": ".py",
   "mimetype": "text/x-python",
   "name": "python",
   "nbconvert_exporter": "python",
   "pygments_lexer": "ipython3",
   "version": "3.6.4"
  }
 },
 "nbformat": 4,
 "nbformat_minor": 2
}
